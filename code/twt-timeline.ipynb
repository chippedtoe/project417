{
 "cells": [
  {
   "cell_type": "code",
   "execution_count": null,
   "metadata": {
    "id": "arErZC6IBOA2",
    "outputId": "ddb30759-c30f-4f10-a449-057ee7cbc940"
   },
   "outputs": [
    {
     "data": {
      "text/plain": [
       "\"\\nDon't run this here \\n\\n\""
      ]
     },
     "execution_count": 1,
     "metadata": {},
     "output_type": "execute_result"
    }
   ],
   "source": [
    "'''\n",
    "Don't run this here \n",
    "\n",
    "'''"
   ]
  },
  {
   "cell_type": "code",
   "execution_count": 3,
   "metadata": {
    "id": "yHsXIFjEBOA6"
   },
   "outputs": [],
   "source": [
    "#pip install matplotlib"
   ]
  },
  {
   "cell_type": "code",
   "execution_count": 1,
   "metadata": {
    "id": "ff7n-_UABOA8"
   },
   "outputs": [],
   "source": [
    "import pandas as pd\n",
    "import numpy as np \n",
    "from matplotlib import pyplot as plt"
   ]
  },
  {
   "cell_type": "code",
   "execution_count": 49,
   "metadata": {
    "colab": {
     "base_uri": "https://localhost:8080/",
     "height": 342
    },
    "id": "7rBwTjleBOBB",
    "outputId": "b9f333a0-9253-4228-dc74-871afc53f0f1"
   },
   "outputs": [
    {
     "data": {
      "text/html": [
       "<div>\n",
       "<style scoped>\n",
       "    .dataframe tbody tr th:only-of-type {\n",
       "        vertical-align: middle;\n",
       "    }\n",
       "\n",
       "    .dataframe tbody tr th {\n",
       "        vertical-align: top;\n",
       "    }\n",
       "\n",
       "    .dataframe thead th {\n",
       "        text-align: right;\n",
       "    }\n",
       "</style>\n",
       "<table border=\"1\" class=\"dataframe\">\n",
       "  <thead>\n",
       "    <tr style=\"text-align: right;\">\n",
       "      <th></th>\n",
       "      <th>Unnamed: 0</th>\n",
       "      <th>id</th>\n",
       "      <th>content</th>\n",
       "      <th>lang</th>\n",
       "      <th>hashtags</th>\n",
       "    </tr>\n",
       "    <tr>\n",
       "      <th>date</th>\n",
       "      <th></th>\n",
       "      <th></th>\n",
       "      <th></th>\n",
       "      <th></th>\n",
       "      <th></th>\n",
       "    </tr>\n",
       "  </thead>\n",
       "  <tbody>\n",
       "    <tr>\n",
       "      <th>2019-11-30 23:59:58+00:00</th>\n",
       "      <td>0</td>\n",
       "      <td>1200927481408000000</td>\n",
       "      <td>Cant wait until tomorrow night's episode @Rick...</td>\n",
       "      <td>en</td>\n",
       "      <td>NaN</td>\n",
       "    </tr>\n",
       "    <tr>\n",
       "      <th>2019-11-30 23:59:54+00:00</th>\n",
       "      <td>1</td>\n",
       "      <td>1200927463305560064</td>\n",
       "      <td>@phut_phut_sefka Watched the first 2 episodes ...</td>\n",
       "      <td>en</td>\n",
       "      <td>NaN</td>\n",
       "    </tr>\n",
       "    <tr>\n",
       "      <th>2019-11-30 23:59:54+00:00</th>\n",
       "      <td>2</td>\n",
       "      <td>1200927463200763904</td>\n",
       "      <td>@NewYorkRedBulls @Eyes_N_Heart @starwars @them...</td>\n",
       "      <td>en</td>\n",
       "      <td>NaN</td>\n",
       "    </tr>\n",
       "    <tr>\n",
       "      <th>2019-11-30 23:59:49+00:00</th>\n",
       "      <td>3</td>\n",
       "      <td>1200927442493493250</td>\n",
       "      <td>Viendo la serie del baby yoda que es aún mejor...</td>\n",
       "      <td>es</td>\n",
       "      <td>NaN</td>\n",
       "    </tr>\n",
       "    <tr>\n",
       "      <th>2019-11-30 23:59:45+00:00</th>\n",
       "      <td>4</td>\n",
       "      <td>1200927427016441857</td>\n",
       "      <td>Esta noche tengo plan 🍷✨\\n#TheMandalorian \\nht...</td>\n",
       "      <td>es</td>\n",
       "      <td>['TheMandalorian']</td>\n",
       "    </tr>\n",
       "  </tbody>\n",
       "</table>\n",
       "</div>"
      ],
      "text/plain": [
       "                           Unnamed: 0                   id  \\\n",
       "date                                                         \n",
       "2019-11-30 23:59:58+00:00           0  1200927481408000000   \n",
       "2019-11-30 23:59:54+00:00           1  1200927463305560064   \n",
       "2019-11-30 23:59:54+00:00           2  1200927463200763904   \n",
       "2019-11-30 23:59:49+00:00           3  1200927442493493250   \n",
       "2019-11-30 23:59:45+00:00           4  1200927427016441857   \n",
       "\n",
       "                                                                     content  \\\n",
       "date                                                                           \n",
       "2019-11-30 23:59:58+00:00  Cant wait until tomorrow night's episode @Rick...   \n",
       "2019-11-30 23:59:54+00:00  @phut_phut_sefka Watched the first 2 episodes ...   \n",
       "2019-11-30 23:59:54+00:00  @NewYorkRedBulls @Eyes_N_Heart @starwars @them...   \n",
       "2019-11-30 23:59:49+00:00  Viendo la serie del baby yoda que es aún mejor...   \n",
       "2019-11-30 23:59:45+00:00  Esta noche tengo plan 🍷✨\\n#TheMandalorian \\nht...   \n",
       "\n",
       "                          lang            hashtags  \n",
       "date                                                \n",
       "2019-11-30 23:59:58+00:00   en                 NaN  \n",
       "2019-11-30 23:59:54+00:00   en                 NaN  \n",
       "2019-11-30 23:59:54+00:00   en                 NaN  \n",
       "2019-11-30 23:59:49+00:00   es                 NaN  \n",
       "2019-11-30 23:59:45+00:00   es  ['TheMandalorian']  "
      ]
     },
     "execution_count": 49,
     "metadata": {},
     "output_type": "execute_result"
    }
   ],
   "source": [
    "#shortcut\n",
    "tweets = pd.read_csv(r'C:\\Users\\alist\\Documents\\417\\data\\yoda2.csv', encoding='utf-8', index_col=1, parse_dates=True)\n",
    "tweets.head()"
   ]
  },
  {
   "cell_type": "code",
   "execution_count": 48,
   "metadata": {
    "colab": {
     "base_uri": "https://localhost:8080/",
     "height": 342
    },
    "id": "X4UsxRHZUGeB",
    "outputId": "0544e509-6363-4c13-f950-5d65dbda68dd"
   },
   "outputs": [],
   "source": [
    "#tweets.sample(5)"
   ]
  },
  {
   "cell_type": "code",
   "execution_count": 50,
   "metadata": {
    "colab": {
     "base_uri": "https://localhost:8080/"
    },
    "id": "9dHCDOSuDSHb",
    "outputId": "ce2b361f-0cb7-464c-aa7f-b6ff3db0b61c"
   },
   "outputs": [
    {
     "data": {
      "text/plain": [
       "(329089, 5)"
      ]
     },
     "execution_count": 50,
     "metadata": {},
     "output_type": "execute_result"
    }
   ],
   "source": [
    "tweets.shape"
   ]
  },
  {
   "cell_type": "code",
   "execution_count": 51,
   "metadata": {
    "colab": {
     "base_uri": "https://localhost:8080/"
    },
    "id": "yv6wAJEQtI5N",
    "outputId": "44bdd5a6-ce36-44dd-c8fa-19c058ba1e5e"
   },
   "outputs": [
    {
     "data": {
      "text/plain": [
       "DatetimeIndex(['2019-11-30 23:59:58+00:00', '2019-11-30 23:59:54+00:00',\n",
       "               '2019-11-30 23:59:54+00:00', '2019-11-30 23:59:49+00:00',\n",
       "               '2019-11-30 23:59:45+00:00', '2019-11-30 23:59:43+00:00',\n",
       "               '2019-11-30 23:59:38+00:00', '2019-11-30 23:59:36+00:00',\n",
       "               '2019-11-30 23:59:33+00:00', '2019-11-30 23:59:31+00:00',\n",
       "               ...\n",
       "               '2019-11-01 00:21:30+00:00', '2019-11-01 00:20:45+00:00',\n",
       "               '2019-11-01 00:20:18+00:00', '2019-11-01 00:12:31+00:00',\n",
       "               '2019-11-01 00:12:18+00:00', '2019-11-01 00:05:02+00:00',\n",
       "               '2019-11-01 00:00:49+00:00', '2019-11-01 00:00:48+00:00',\n",
       "               '2019-11-01 00:00:07+00:00', '2019-11-01 00:00:05+00:00'],\n",
       "              dtype='datetime64[ns, UTC]', name='date', length=329089, freq=None)"
      ]
     },
     "execution_count": 51,
     "metadata": {},
     "output_type": "execute_result"
    }
   ],
   "source": [
    "tweets.index"
   ]
  },
  {
   "cell_type": "code",
   "execution_count": 18,
   "metadata": {
    "id": "Vo3VVPzoBOBA"
   },
   "outputs": [],
   "source": [
    "import datetime\n",
    "import matplotlib.dates as mdates\n",
    "import seaborn as sns"
   ]
  },
  {
   "cell_type": "code",
   "execution_count": 52,
   "metadata": {
    "id": "MU0CpwOjl0zl"
   },
   "outputs": [],
   "source": [
    "#dti = pd.to_datetime(\n",
    "\n",
    "   # [\"1/1/2018\", np.datetime64(\"2018-01-01\"), datetime.datetime(2018, 1, 1)])"
   ]
  },
  {
   "cell_type": "code",
   "execution_count": null,
   "metadata": {
    "id": "oCwgTGm8BOA_"
   },
   "outputs": [],
   "source": [
    "#pip install seaborn"
   ]
  },
  {
   "cell_type": "code",
   "execution_count": 54,
   "metadata": {
    "colab": {
     "base_uri": "https://localhost:8080/",
     "height": 750
    },
    "id": "6ZRUMwWUBOBC",
    "outputId": "21df0c68-d55a-462b-df10-0a469863359b"
   },
   "outputs": [
    {
     "data": {
      "text/html": [
       "<div>\n",
       "<style scoped>\n",
       "    .dataframe tbody tr th:only-of-type {\n",
       "        vertical-align: middle;\n",
       "    }\n",
       "\n",
       "    .dataframe tbody tr th {\n",
       "        vertical-align: top;\n",
       "    }\n",
       "\n",
       "    .dataframe thead th {\n",
       "        text-align: right;\n",
       "    }\n",
       "</style>\n",
       "<table border=\"1\" class=\"dataframe\">\n",
       "  <thead>\n",
       "    <tr style=\"text-align: right;\">\n",
       "      <th></th>\n",
       "      <th>Unnamed: 0</th>\n",
       "      <th>id</th>\n",
       "      <th>content</th>\n",
       "      <th>lang</th>\n",
       "      <th>hashtags</th>\n",
       "    </tr>\n",
       "    <tr>\n",
       "      <th>date</th>\n",
       "      <th></th>\n",
       "      <th></th>\n",
       "      <th></th>\n",
       "      <th></th>\n",
       "      <th></th>\n",
       "    </tr>\n",
       "  </thead>\n",
       "  <tbody>\n",
       "    <tr>\n",
       "      <th>2019-11-01 23:59:41+00:00</th>\n",
       "      <td>328235</td>\n",
       "      <td>1190418163307028480</td>\n",
       "      <td>@alexandre_marx @themandalorian It's gonna be ...</td>\n",
       "      <td>en</td>\n",
       "      <td>NaN</td>\n",
       "    </tr>\n",
       "    <tr>\n",
       "      <th>2019-11-01 23:59:24+00:00</th>\n",
       "      <td>328236</td>\n",
       "      <td>1190418091081175040</td>\n",
       "      <td>Who’s ready to see these two in action in the ...</td>\n",
       "      <td>en</td>\n",
       "      <td>['ThisGuy']</td>\n",
       "    </tr>\n",
       "    <tr>\n",
       "      <th>2019-11-01 23:58:36+00:00</th>\n",
       "      <td>328237</td>\n",
       "      <td>1190417887846174720</td>\n",
       "      <td>@LeoCosta75 @themandalorian #TheMandalorian wi...</td>\n",
       "      <td>en</td>\n",
       "      <td>['TheMandalorian']</td>\n",
       "    </tr>\n",
       "    <tr>\n",
       "      <th>2019-11-01 23:57:35+00:00</th>\n",
       "      <td>328238</td>\n",
       "      <td>1190417635499884544</td>\n",
       "      <td>Sorry,  I can't help but keep thinking that \"T...</td>\n",
       "      <td>en</td>\n",
       "      <td>['TheMandalorian', 'BackToTheFuture', 'TheManD...</td>\n",
       "    </tr>\n",
       "    <tr>\n",
       "      <th>2019-11-01 23:55:17+00:00</th>\n",
       "      <td>328239</td>\n",
       "      <td>1190417053850705921</td>\n",
       "      <td>@brianjpapineau Ha! I definitely be subscribin...</td>\n",
       "      <td>en</td>\n",
       "      <td>NaN</td>\n",
       "    </tr>\n",
       "  </tbody>\n",
       "</table>\n",
       "</div>"
      ],
      "text/plain": [
       "                           Unnamed: 0                   id  \\\n",
       "date                                                         \n",
       "2019-11-01 23:59:41+00:00      328235  1190418163307028480   \n",
       "2019-11-01 23:59:24+00:00      328236  1190418091081175040   \n",
       "2019-11-01 23:58:36+00:00      328237  1190417887846174720   \n",
       "2019-11-01 23:57:35+00:00      328238  1190417635499884544   \n",
       "2019-11-01 23:55:17+00:00      328239  1190417053850705921   \n",
       "\n",
       "                                                                     content  \\\n",
       "date                                                                           \n",
       "2019-11-01 23:59:41+00:00  @alexandre_marx @themandalorian It's gonna be ...   \n",
       "2019-11-01 23:59:24+00:00  Who’s ready to see these two in action in the ...   \n",
       "2019-11-01 23:58:36+00:00  @LeoCosta75 @themandalorian #TheMandalorian wi...   \n",
       "2019-11-01 23:57:35+00:00  Sorry,  I can't help but keep thinking that \"T...   \n",
       "2019-11-01 23:55:17+00:00  @brianjpapineau Ha! I definitely be subscribin...   \n",
       "\n",
       "                          lang  \\\n",
       "date                             \n",
       "2019-11-01 23:59:41+00:00   en   \n",
       "2019-11-01 23:59:24+00:00   en   \n",
       "2019-11-01 23:58:36+00:00   en   \n",
       "2019-11-01 23:57:35+00:00   en   \n",
       "2019-11-01 23:55:17+00:00   en   \n",
       "\n",
       "                                                                    hashtags  \n",
       "date                                                                          \n",
       "2019-11-01 23:59:41+00:00                                                NaN  \n",
       "2019-11-01 23:59:24+00:00                                        ['ThisGuy']  \n",
       "2019-11-01 23:58:36+00:00                                 ['TheMandalorian']  \n",
       "2019-11-01 23:57:35+00:00  ['TheMandalorian', 'BackToTheFuture', 'TheManD...  \n",
       "2019-11-01 23:55:17+00:00                                                NaN  "
      ]
     },
     "execution_count": 54,
     "metadata": {},
     "output_type": "execute_result"
    }
   ],
   "source": [
    "tweets.loc['2019-11-01'][:5]"
   ]
  },
  {
   "cell_type": "code",
   "execution_count": 55,
   "metadata": {
    "id": "dtRH1x1oBOBD"
   },
   "outputs": [
    {
     "data": {
      "text/plain": [
       "Index([2019-11-01, 2019-11-02, 2019-11-03, 2019-11-04, 2019-11-05, 2019-11-06,\n",
       "       2019-11-07, 2019-11-08, 2019-11-09, 2019-11-10, 2019-11-11, 2019-11-12,\n",
       "       2019-11-13, 2019-11-14, 2019-11-15, 2019-11-16, 2019-11-17, 2019-11-18,\n",
       "       2019-11-19, 2019-11-20, 2019-11-21, 2019-11-22, 2019-11-23, 2019-11-24,\n",
       "       2019-11-25, 2019-11-26, 2019-11-27, 2019-11-28, 2019-11-29, 2019-11-30],\n",
       "      dtype='object')"
      ]
     },
     "execution_count": 55,
     "metadata": {},
     "output_type": "execute_result"
    }
   ],
   "source": [
    "counts = tweets.groupby(tweets.index.date).count()\n",
    "counts.index"
   ]
  },
  {
   "cell_type": "code",
   "execution_count": 56,
   "metadata": {
    "colab": {
     "base_uri": "https://localhost:8080/"
    },
    "id": "V5oOTlKKU4_0",
    "outputId": "94701551-3999-4bae-ea7b-fdaec4487312"
   },
   "outputs": [
    {
     "data": {
      "text/plain": [
       "DatetimeIndex(['2019-11-01', '2019-11-02', '2019-11-03', '2019-11-04',\n",
       "               '2019-11-05', '2019-11-06', '2019-11-07', '2019-11-08',\n",
       "               '2019-11-09', '2019-11-10', '2019-11-11', '2019-11-12',\n",
       "               '2019-11-13', '2019-11-14', '2019-11-15', '2019-11-16',\n",
       "               '2019-11-17', '2019-11-18', '2019-11-19', '2019-11-20',\n",
       "               '2019-11-21', '2019-11-22', '2019-11-23', '2019-11-24',\n",
       "               '2019-11-25', '2019-11-26', '2019-11-27', '2019-11-28',\n",
       "               '2019-11-29', '2019-11-30'],\n",
       "              dtype='datetime64[ns]', freq=None)"
      ]
     },
     "execution_count": 56,
     "metadata": {},
     "output_type": "execute_result"
    }
   ],
   "source": [
    "counts.index = pd.to_datetime(counts.index)\n",
    "counts.index"
   ]
  },
  {
   "cell_type": "code",
   "execution_count": 57,
   "metadata": {
    "colab": {
     "base_uri": "https://localhost:8080/"
    },
    "id": "An7HGSai0tij",
    "outputId": "887f29fa-389c-48b5-9659-40673e55bc71"
   },
   "outputs": [
    {
     "data": {
      "text/plain": [
       "(30, 5)"
      ]
     },
     "execution_count": 57,
     "metadata": {},
     "output_type": "execute_result"
    }
   ],
   "source": [
    "counts.shape"
   ]
  },
  {
   "cell_type": "markdown",
   "metadata": {},
   "source": [
    "## Merge raw data"
   ]
  },
  {
   "cell_type": "code",
   "execution_count": 3,
   "metadata": {},
   "outputs": [],
   "source": [
    "def merge(files):\n",
    "    l = []\n",
    "    for file in files:\n",
    "        file = pd.read_csv(file,encoding='utf-8', index_col='date', parse_dates=True)\n",
    "        l.append(file)\n",
    "    merged = pd.concat([df for df in l], axis=0)\n",
    "    merged.drop_duplicates(subset=['id'], inplace=True)\n",
    "    return merged"
   ]
  },
  {
   "cell_type": "code",
   "execution_count": 105,
   "metadata": {},
   "outputs": [],
   "source": [
    "data = merge([r'C:\\Users\\alist\\Documents\\417\\data\\umbrella-uhh.csv',r'C:\\Users\\alist\\Documents\\417\\data\\umbrella-feb.csv'])"
   ]
  },
  {
   "cell_type": "code",
   "execution_count": 106,
   "metadata": {},
   "outputs": [
    {
     "data": {
      "text/plain": [
       "(575126, 5)"
      ]
     },
     "execution_count": 106,
     "metadata": {},
     "output_type": "execute_result"
    }
   ],
   "source": [
    "data.shape"
   ]
  },
  {
   "cell_type": "code",
   "execution_count": 107,
   "metadata": {},
   "outputs": [
    {
     "data": {
      "text/plain": [
       "DatetimeIndex(['2020-01-31 23:33:35+00:00', '2020-01-31 23:33:10+00:00',\n",
       "               '2020-01-31 23:31:16+00:00', '2020-01-31 23:30:40+00:00',\n",
       "               '2020-01-31 23:29:42+00:00', '2020-01-31 23:29:32+00:00',\n",
       "               '2020-01-31 23:28:34+00:00', '2020-01-31 23:26:22+00:00',\n",
       "               '2020-01-31 23:22:46+00:00', '2020-01-31 23:19:10+00:00',\n",
       "               ...\n",
       "               '2019-02-01 00:22:08+00:00', '2019-02-01 00:21:34+00:00',\n",
       "               '2019-02-01 00:18:37+00:00', '2019-02-01 00:14:55+00:00',\n",
       "               '2019-02-01 00:14:13+00:00', '2019-02-01 00:12:06+00:00',\n",
       "               '2019-02-01 00:12:02+00:00', '2019-02-01 00:07:57+00:00',\n",
       "               '2019-02-01 00:06:04+00:00', '2019-02-01 00:00:55+00:00'],\n",
       "              dtype='datetime64[ns, UTC]', name='date', length=575126, freq=None)"
      ]
     },
     "execution_count": 107,
     "metadata": {},
     "output_type": "execute_result"
    }
   ],
   "source": [
    "data.index"
   ]
  },
  {
   "cell_type": "code",
   "execution_count": 96,
   "metadata": {},
   "outputs": [
    {
     "data": {
      "text/plain": [
       "DatetimeIndex(['2020-12-31 23:59:42+00:00', '2020-12-31 23:59:38+00:00',\n",
       "               '2020-12-31 23:59:34+00:00', '2020-12-31 23:59:14+00:00',\n",
       "               '2020-12-31 23:59:08+00:00', '2020-12-31 23:58:58+00:00',\n",
       "               '2020-12-31 23:58:47+00:00', '2020-12-31 23:58:45+00:00',\n",
       "               '2020-12-31 23:58:37+00:00', '2020-12-31 23:57:36+00:00',\n",
       "               ...\n",
       "               '2021-01-01 00:02:08+00:00', '2021-01-01 00:02:05+00:00',\n",
       "               '2021-01-01 00:01:58+00:00', '2021-01-01 00:01:51+00:00',\n",
       "               '2021-01-01 00:01:35+00:00', '2021-01-01 00:01:20+00:00',\n",
       "               '2021-01-01 00:01:19+00:00', '2021-01-01 00:01:10+00:00',\n",
       "               '2021-01-01 00:00:30+00:00', '2021-01-01 00:00:02+00:00'],\n",
       "              dtype='datetime64[ns, UTC]', length=357913, freq=None)"
      ]
     },
     "execution_count": 96,
     "metadata": {},
     "output_type": "execute_result"
    }
   ],
   "source": [
    "data.index = pd.to_datetime(data.index, errors='coerce')\n",
    "data.index"
   ]
  },
  {
   "cell_type": "code",
   "execution_count": 108,
   "metadata": {
    "id": "7ObJBfq2jr4s"
   },
   "outputs": [],
   "source": [
    "twt_counts = data.groupby(data.index.date).count()\n"
   ]
  },
  {
   "cell_type": "code",
   "execution_count": 109,
   "metadata": {
    "colab": {
     "base_uri": "https://localhost:8080/"
    },
    "id": "NPGZktaW0lJK",
    "outputId": "b41d095f-66b2-497d-a1f0-b98039358a54"
   },
   "outputs": [
    {
     "data": {
      "text/plain": [
       "(365, 5)"
      ]
     },
     "execution_count": 109,
     "metadata": {},
     "output_type": "execute_result"
    }
   ],
   "source": [
    "twt_counts.shape"
   ]
  },
  {
   "cell_type": "code",
   "execution_count": 110,
   "metadata": {
    "id": "iaj5r-WPzd9M"
   },
   "outputs": [
    {
     "data": {
      "text/plain": [
       "DatetimeIndex(['2019-02-01', '2019-02-02', '2019-02-03', '2019-02-04',\n",
       "               '2019-02-05', '2019-02-06', '2019-02-07', '2019-02-08',\n",
       "               '2019-02-09', '2019-02-10',\n",
       "               ...\n",
       "               '2020-01-22', '2020-01-23', '2020-01-24', '2020-01-25',\n",
       "               '2020-01-26', '2020-01-27', '2020-01-28', '2020-01-29',\n",
       "               '2020-01-30', '2020-01-31'],\n",
       "              dtype='datetime64[ns]', length=365, freq=None)"
      ]
     },
     "execution_count": 110,
     "metadata": {},
     "output_type": "execute_result"
    }
   ],
   "source": [
    "twt_counts.index = pd.to_datetime(twt_counts.index)\n",
    "twt_counts.index"
   ]
  },
  {
   "cell_type": "code",
   "execution_count": 99,
   "metadata": {
    "colab": {
     "base_uri": "https://localhost:8080/",
     "height": 206
    },
    "id": "q3Wei-rbzsA8",
    "outputId": "ed066fa4-f68f-481a-d511-edf278916164"
   },
   "outputs": [],
   "source": [
    "#twt_counts.loc['2020-02']"
   ]
  },
  {
   "cell_type": "markdown",
   "metadata": {
    "id": "z7tgki_NWDki"
   },
   "source": [
    "## Plot data"
   ]
  },
  {
   "cell_type": "code",
   "execution_count": 306,
   "metadata": {
    "colab": {
     "base_uri": "https://localhost:8080/"
    },
    "id": "wMz0SztqDYkQ",
    "outputId": "f0d3b913-ac04-4970-83c0-3b652ad82a09"
   },
   "outputs": [
    {
     "data": {
      "text/plain": [
       "[Timestamp('2019-11-19 00:00:00'),\n",
       " Timestamp('2019-11-26 00:00:00'),\n",
       " Timestamp('2019-12-03 00:00:00'),\n",
       " Timestamp('2019-12-10 00:00:00'),\n",
       " Timestamp('2019-12-17 00:00:00')]"
      ]
     },
     "execution_count": 306,
     "metadata": {},
     "output_type": "execute_result"
    }
   ],
   "source": [
    "start_date = pd.to_datetime('2019-11-12') #release date\n",
    "end_date = twt_counts.index[-1]#pd.to_datetime('2020-02-01')\n",
    "\n",
    "eps_dates = []\n",
    "\n",
    "while start_date < end_date:\n",
    "    eps_date = start_date+datetime.timedelta(days=7)\n",
    "    eps_dates.append(eps_date)\n",
    "    start_date = eps_date\n",
    "\n",
    "eps_dates[:5]"
   ]
  },
  {
   "cell_type": "code",
   "execution_count": 31,
   "metadata": {},
   "outputs": [],
   "source": [
    "dates = ['2019-11-12', '2019-11-15', '2019-11-22', '2019-11-29', '2019-12-06', '2019-12-13','2019-12-18','2019-12-27']\n",
    "\n",
    "eps_dates = []\n",
    "for string in dates:\n",
    "    string = datetime.datetime.strptime(string,'%Y-%m-%d')\n",
    "    eps_dates.append(string)"
   ]
  },
  {
   "cell_type": "code",
   "execution_count": 100,
   "metadata": {},
   "outputs": [
    {
     "data": {
      "text/plain": [
       "[datetime.datetime(2019, 11, 12, 0, 0),\n",
       " datetime.datetime(2019, 11, 15, 0, 0),\n",
       " datetime.datetime(2019, 11, 22, 0, 0),\n",
       " datetime.datetime(2019, 11, 29, 0, 0),\n",
       " datetime.datetime(2019, 12, 6, 0, 0),\n",
       " datetime.datetime(2019, 12, 13, 0, 0),\n",
       " datetime.datetime(2019, 12, 18, 0, 0),\n",
       " datetime.datetime(2019, 12, 27, 0, 0)]"
      ]
     },
     "execution_count": 100,
     "metadata": {},
     "output_type": "execute_result"
    }
   ],
   "source": [
    "eps_dates"
   ]
  },
  {
   "cell_type": "code",
   "execution_count": 112,
   "metadata": {},
   "outputs": [
    {
     "data": {
      "image/png": "[encoded data removed]",
      "text/plain": [
       "<Figure size 1120x640 with 1 Axes>"
      ]
     },
     "metadata": {
      "needs_background": "light"
     },
     "output_type": "display_data"
    }
   ],
   "source": [
    "fig = plt.figure(figsize= (14,8), dpi=80)\n",
    "ax = fig.add_subplot()\n",
    "\n",
    "ax.bar(twt_counts.index.date, height=twt_counts.content,color='#2ca25f')\n",
    "\n",
    "ax.set_title('Tweets per day')\n",
    "\n",
    "ax.xaxis.set_major_locator(mdates.MonthLocator())\n",
    "ax.xaxis.set_major_formatter(mdates.DateFormatter('%b %Y'))\n",
    "\n",
    "#dateline\n",
    "#for i in range(len(eps_dates)):\n",
    "    #ax.axvline(eps_dates[i], color='gray', linestyle='--')\n",
    "    #ax.text(eps_dates[i],20000,'EP{}'.format(i+1),color='gray')\n",
    "ax.axvline(datetime.datetime.strptime('2019-02-15','%Y-%m-%d'), color='gray',linestyle='--')\n",
    "\n",
    "plt.margins(x=0)\n",
    "\n",
    "plt.show()"
   ]
  },
  {
   "cell_type": "code",
   "execution_count": 50,
   "metadata": {
    "colab": {
     "base_uri": "https://localhost:8080/",
     "height": 35
    },
    "id": "PMAUz8lH7BN9",
    "outputId": "d3a71ed6-9385-4409-d425-3536f729a899"
   },
   "outputs": [
    {
     "data": {
      "text/plain": [
       "<Figure size 432x288 with 0 Axes>"
      ]
     },
     "metadata": {},
     "output_type": "display_data"
    }
   ],
   "source": [
    "plt.savefig('mandalorian-release.jpg')"
   ]
  },
  {
   "cell_type": "markdown",
   "metadata": {
    "id": "ylyGQjQYV1qk"
   },
   "source": []
  },
  {
   "cell_type": "code",
   "execution_count": 220,
   "metadata": {
    "colab": {
     "base_uri": "https://localhost:8080/",
     "height": 264
    },
    "id": "sdsd0QSaV0Ub",
    "outputId": "17a0d755-cfb9-4d01-9c34-d9bc69160cd7"
   },
   "outputs": [
    {
     "data": {
      "image/png": "[encoded data removed]",
      "text/plain": [
       "<Figure size 800x640 with 1 Axes>"
      ]
     },
     "metadata": {},
     "output_type": "display_data"
    }
   ],
   "source": [
    "plt.figure(figsize= (10,8), dpi=80)\n",
    "sns.set_style('white')\n",
    "\n",
    "sns.barplot(x=twt_counts.index.date, y=twt_counts.content, color='#2ca25f')#tweets.index.date)\n",
    "graph = plt.gca()\n",
    "plt.title('Tweets per day')\n",
    "\n",
    "graph.xaxis.set_major_formatter(mdates.ConciseDateFormatter('%m %Y'))\n",
    "graph.xaxis.set_major_locator(mdates.MonthLocator())\n",
    "graph.xaxis.set_minor_locator(mdates.DayLocator(interval=5))\n",
    "#_ = plt.xticks(rotation = 90)\n",
    "plt.show()"
   ]
  },
  {
   "cell_type": "code",
   "execution_count": null,
   "metadata": {
    "colab": {
     "base_uri": "https://localhost:8080/",
     "height": 35
    },
    "id": "ED_SKdsQG3VL",
    "outputId": "83909f07-5089-4cab-d513-96dfeae1f342"
   },
   "outputs": [
    {
     "data": {
      "text/plain": [
       "<Figure size 792x288 with 0 Axes>"
      ]
     },
     "metadata": {},
     "output_type": "display_data"
    }
   ],
   "source": [
    "plt.savefig('mandalorian.jpg')"
   ]
  },
  {
   "cell_type": "markdown",
   "metadata": {},
   "source": []
  }
 ],
 "metadata": {
  "colab": {
   "collapsed_sections": [],
   "name": "timeline.ipynb",
   "provenance": []
  },
  "interpreter": {
   "hash": "01f52e9260cc1147d8f2046fda0352a5570ca3efaa1f9a8af1b0e324c53e8a51"
  },
  "kernelspec": {
   "display_name": "Python 3 (ipykernel)",
   "language": "python",
   "name": "python3"
  },
  "language_info": {
   "codemirror_mode": {
    "name": "ipython",
    "version": 3
   },
   "file_extension": ".py",
   "mimetype": "text/x-python",
   "name": "python",
   "nbconvert_exporter": "python",
   "pygments_lexer": "ipython3",
   "version": "3.10.0"
  }
 },
 "nbformat": 4,
 "nbformat_minor": 4
}
